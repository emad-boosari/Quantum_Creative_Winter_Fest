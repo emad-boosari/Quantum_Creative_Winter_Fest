{
 "cells": [
  {
   "cell_type": "markdown",
   "id": "522ddff0",
   "metadata": {},
   "source": [
    "# Quantum High & low game"
   ]
  },
  {
   "cell_type": "code",
   "execution_count": 1,
   "id": "e5083fa3",
   "metadata": {},
   "outputs": [],
   "source": [
    "from qiskit import QuantumCircuit, QuantumRegister, ClassicalRegister\n",
    "from qiskit import execute, Aer\n",
    "from qiskit.visualization import plot_histogram"
   ]
  },
  {
   "cell_type": "markdown",
   "id": "564e4da1",
   "metadata": {},
   "source": [
    "## Quantum number Generator:"
   ]
  },
  {
   "cell_type": "code",
   "execution_count": 2,
   "id": "104895df",
   "metadata": {},
   "outputs": [],
   "source": [
    "# The heart of this generatro is the following circuit\n",
    "def qcard_generator(): \n",
    "        qc = QuantumCircuit(6)\n",
    "        qc.h(range(6))\n",
    "        qc.measure_all()\n",
    "        # Backend part\n",
    "        backend = Aer.get_backend('qasm_simulator')\n",
    "        job = execute(qc, backend, shots = 1)\n",
    "        result = job.result()\n",
    "        count = result.get_counts()        \n",
    "        # \n",
    "        b = []\n",
    "        for i in count.items():\n",
    "            b.append(i[0])\n",
    "        \n",
    "        return (int(b[0],2)) # output is a integer number"
   ]
  },
  {
   "cell_type": "code",
   "execution_count": 3,
   "id": "eca2e743",
   "metadata": {},
   "outputs": [],
   "source": [
    "all_cards = [] # Set of all 52 playing cards"
   ]
  },
  {
   "cell_type": "code",
   "execution_count": 4,
   "id": "5dab5662",
   "metadata": {},
   "outputs": [],
   "source": [
    "# this function will create a deck of cards that have been shuffled quantumly\n",
    "# this function is going to get the number that came from the quantum generator and determine the suit of the card.\n",
    "def deck(list):    \n",
    "    '''\n",
    "    the argument is an empty list for memorizing cards after each iteration\n",
    "    '''\n",
    "    i = 0\n",
    "    while len(list) < 52:\n",
    "        i +=1\n",
    "        a = qcard_generator()\n",
    "        if a not in list and a < 52:\n",
    "            list.append(a)\n",
    "    \n",
    "    \n",
    "    return all_cards, i"
   ]
  },
  {
   "cell_type": "code",
   "execution_count": 5,
   "id": "0acdbcd1",
   "metadata": {},
   "outputs": [],
   "source": [
    "# this function is going to get an integer number and gave us the number of cards among (1,2,3...,10,J,Q,K)\n",
    "\n",
    "def get_card(x):\n",
    "    '''\n",
    "    x is a integer number\n",
    "    '''\n",
    "    card = None\n",
    "    d = x%13\n",
    "    if d == 0:\n",
    "        card = 'Ace'\n",
    "    elif d == 10:\n",
    "        card = 'Jack'\n",
    "    elif d == 11:\n",
    "        card = 'Queen'\n",
    "    elif d == 12:\n",
    "        card = 'King'\n",
    "    else:\n",
    "        card = d+1\n",
    "        \n",
    "    return card"
   ]
  },
  {
   "cell_type": "code",
   "execution_count": 6,
   "id": "2f30d2f8",
   "metadata": {},
   "outputs": [],
   "source": [
    "# this function is going to get an integer number and determine the suit of card among (Spade, Heart, Diamond and Club)\n",
    "\n",
    "def get_suit(x):\n",
    "    '''\n",
    "    x is an integer number\n",
    "    '''\n",
    "    suit = None\n",
    "    if x <13:\n",
    "        suit = 'Spade'\n",
    "    elif 12 < x < 26:\n",
    "        suit = 'Diamond'\n",
    "    elif 25 < x < 39:\n",
    "        suit = 'Heart'\n",
    "    else:\n",
    "        suit = 'Club'\n",
    "    return suit"
   ]
  },
  {
   "cell_type": "code",
   "execution_count": 7,
   "id": "2ddd8e8d",
   "metadata": {},
   "outputs": [],
   "source": [
    "# this function gives us the score of each player after getting their cards,\n",
    "\n",
    "def score(x):\n",
    "    '''\n",
    "    x is a integer number\n",
    "    '''\n",
    "    d = get_card(x)\n",
    "    score = 0\n",
    "    if d == 'Ace':\n",
    "        score = 1\n",
    "    elif d == 'Jack':\n",
    "        score = 2\n",
    "    elif d == 'Queen':\n",
    "        score = 3\n",
    "    elif d == 'King':\n",
    "        score = 4\n",
    "    else:\n",
    "        score = d\n",
    "    \n",
    "    return score"
   ]
  },
  {
   "cell_type": "markdown",
   "id": "ad039b17",
   "metadata": {},
   "source": [
    "## High \\& low Game"
   ]
  },
  {
   "cell_type": "code",
   "execution_count": 8,
   "id": "1933c48e",
   "metadata": {},
   "outputs": [],
   "source": [
    "# This function give us the winner of high & low game after creating the deck of cards in quantum way.\n",
    "\n",
    "def winner(list):\n",
    "    w = max(list)\n",
    "    wlist = []\n",
    "    for i,j in enumerate(list):\n",
    "        if j == w:\n",
    "            wlist.append(i+1)\n",
    "    \n",
    "    if len(wlist) == 1:\n",
    "        print('Single winner is the player %s' %(list.index(max(list))+1))\n",
    "    else:\n",
    "        print('Winners are the players %s' %(wlist))"
   ]
  },
  {
   "cell_type": "code",
   "execution_count": 9,
   "id": "f2a279dd",
   "metadata": {},
   "outputs": [],
   "source": [
    "# this function put to gether all the picesses for high & low game\n",
    "def q_high_low(list):\n",
    "    num_player = int(input(\"Please enter the number of players\"))\n",
    "    score_list = []\n",
    "    \n",
    "    for i in range(num_player):\n",
    "        x = list.pop()\n",
    "        score_list.append(score(x))\n",
    "        print('Player %s has card %s of %s' % (i+1, get_card(x), get_suit(x)))\n",
    "        \n",
    "\n",
    "    return winner(score_list)"
   ]
  },
  {
   "cell_type": "markdown",
   "id": "5498cb4b",
   "metadata": {},
   "source": [
    "## Start the Game"
   ]
  },
  {
   "cell_type": "code",
   "execution_count": 10,
   "id": "bf32e26e",
   "metadata": {},
   "outputs": [],
   "source": [
    "card_deck = deck(all_cards) # Creating a shuffled deck of card"
   ]
  },
  {
   "cell_type": "code",
   "execution_count": 11,
   "id": "a583bf23",
   "metadata": {},
   "outputs": [
    {
     "name": "stdout",
     "output_type": "stream",
     "text": [
      "We have a list of cards with length 52 which obtained from 286 number of quantum measurnement\n"
     ]
    }
   ],
   "source": [
    "print(\"We have a list of cards with length %s which obtained from %s number of quantum measurnement\" %(len(card_deck[0]),(card_deck[1])))"
   ]
  },
  {
   "cell_type": "code",
   "execution_count": 12,
   "id": "8c6e97e1",
   "metadata": {},
   "outputs": [
    {
     "name": "stdout",
     "output_type": "stream",
     "text": [
      "Please enter the number of players7\n",
      "Player 1 has card 2 of Diamond\n",
      "Player 2 has card 8 of Heart\n",
      "Player 3 has card King of Heart\n",
      "Player 4 has card 3 of Club\n",
      "Player 5 has card 5 of Heart\n",
      "Player 6 has card 4 of Diamond\n",
      "Player 7 has card King of Diamond\n",
      "Single winner is the player 2\n"
     ]
    }
   ],
   "source": [
    "# Start the game with the above deck of card\n",
    "q_high_low(card_deck[0])"
   ]
  },
  {
   "cell_type": "code",
   "execution_count": null,
   "id": "2f89168b",
   "metadata": {},
   "outputs": [],
   "source": []
  },
  {
   "cell_type": "code",
   "execution_count": null,
   "id": "3637ad9b",
   "metadata": {},
   "outputs": [],
   "source": []
  }
 ],
 "metadata": {
  "kernelspec": {
   "display_name": "Python 3 (ipykernel)",
   "language": "python",
   "name": "python3"
  },
  "language_info": {
   "codemirror_mode": {
    "name": "ipython",
    "version": 3
   },
   "file_extension": ".py",
   "mimetype": "text/x-python",
   "name": "python",
   "nbconvert_exporter": "python",
   "pygments_lexer": "ipython3",
   "version": "3.8.5"
  }
 },
 "nbformat": 4,
 "nbformat_minor": 5
}
